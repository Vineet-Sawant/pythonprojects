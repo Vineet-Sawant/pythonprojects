{
 "cells": [
  {
   "cell_type": "code",
   "execution_count": 44,
   "id": "d74fe978",
   "metadata": {},
   "outputs": [],
   "source": [
    "DB = {\n",
    "    # key==shorturl and val == long url \n",
    "}"
   ]
  },
  {
   "cell_type": "code",
   "execution_count": 4,
   "id": "589a6a19",
   "metadata": {},
   "outputs": [],
   "source": [
    "import random\n",
    "import string"
   ]
  },
  {
   "cell_type": "code",
   "execution_count": 40,
   "id": "966ef077",
   "metadata": {},
   "outputs": [
    {
     "data": {
      "text/plain": [
       "6"
      ]
     },
     "execution_count": 40,
     "metadata": {},
     "output_type": "execute_result"
    }
   ],
   "source": [
    "random.randint(4,6)"
   ]
  },
  {
   "cell_type": "code",
   "execution_count": 46,
   "id": "05b61638",
   "metadata": {},
   "outputs": [],
   "source": [
    "chars = string.ascii_lowercase # this gives the all char a-z"
   ]
  },
  {
   "cell_type": "code",
   "execution_count": 15,
   "id": "ab281ebe",
   "metadata": {},
   "outputs": [
    {
     "data": {
      "text/plain": [
       "'u'"
      ]
     },
     "execution_count": 15,
     "metadata": {},
     "output_type": "execute_result"
    }
   ],
   "source": [
    "random.choice(chars) # choose the random char from a-z"
   ]
  },
  {
   "cell_type": "code",
   "execution_count": 17,
   "id": "eb1da4e5",
   "metadata": {},
   "outputs": [
    {
     "data": {
      "text/plain": [
       "['n', 'f', 's', 't', 'r']"
      ]
     },
     "execution_count": 17,
     "metadata": {},
     "output_type": "execute_result"
    }
   ],
   "source": [
    "# to generate multiple chars\n",
    "[random.choice(chars) for i in range(5)]"
   ]
  },
  {
   "cell_type": "code",
   "execution_count": 20,
   "id": "7107fa88",
   "metadata": {},
   "outputs": [
    {
     "data": {
      "text/plain": [
       "'gfdym'"
      ]
     },
     "execution_count": 20,
     "metadata": {},
     "output_type": "execute_result"
    }
   ],
   "source": [
    "''.join([random.choice(chars) for i in range(5)])"
   ]
  },
  {
   "cell_type": "code",
   "execution_count": null,
   "id": "1d295023",
   "metadata": {},
   "outputs": [],
   "source": []
  },
  {
   "cell_type": "code",
   "execution_count": 1,
   "id": "c16d738c",
   "metadata": {},
   "outputs": [],
   "source": []
  },
  {
   "cell_type": "code",
   "execution_count": 73,
   "id": "3cb60b4a",
   "metadata": {},
   "outputs": [],
   "source": [
    "def getShortURL(longurl):\n",
    "    # use to define the length of the chars\n",
    "    charlen = random.randint(4, 7)\n",
    "    \n",
    "    shortUrl = ''.join([random.choice(chars) for i in range(charlen)])\n",
    "    \n",
    "    if shortUrl is DB:\n",
    "        return getShortURL(longurl)\n",
    "    elif longurl in DB:\n",
    "        print(\"Corresponding short url already exists\")\n",
    "        return shortUrl\n",
    "    else:\n",
    "        DB[shortUrl] = longurl\n",
    "        \n",
    "    result = \"biyli.in/\"+shortUrl\n",
    "    return result\n",
    "    \n",
    "        \n",
    "    "
   ]
  },
  {
   "cell_type": "code",
   "execution_count": null,
   "id": "e34d3f42",
   "metadata": {},
   "outputs": [],
   "source": []
  },
  {
   "cell_type": "code",
   "execution_count": null,
   "id": "d88b9647",
   "metadata": {},
   "outputs": [],
   "source": []
  },
  {
   "cell_type": "code",
   "execution_count": 74,
   "id": "0c820b3a",
   "metadata": {},
   "outputs": [],
   "source": [
    "# long url\n",
    "url = \"https://www.vineetsawant.com\""
   ]
  },
  {
   "cell_type": "code",
   "execution_count": 76,
   "id": "6c3b0bfe",
   "metadata": {},
   "outputs": [
    {
     "data": {
      "text/plain": [
       "'biyli.in/gikdi'"
      ]
     },
     "execution_count": 76,
     "metadata": {},
     "output_type": "execute_result"
    }
   ],
   "source": [
    "getShortURL(url)"
   ]
  },
  {
   "cell_type": "code",
   "execution_count": 77,
   "id": "ac3fe1b0",
   "metadata": {},
   "outputs": [
    {
     "data": {
      "text/plain": [
       "{'uvhdn': 'https://www.vineetsawant.com',\n",
       " 'rrbsf': 'https://www.vineetsawant.com',\n",
       " 'ldnew': 'https://www.vineetsawant.com',\n",
       " 'gmbh': 'https://www.vineetsawant.com',\n",
       " 'vfkmxu': 'https://www.vineetsawant.com',\n",
       " 'mimivlo': 'https://www.vineetsawant.com',\n",
       " 'mhtcvh': 'https://www.vineetsawant.com',\n",
       " 'gikdi': 'https://www.vineetsawant.com'}"
      ]
     },
     "execution_count": 77,
     "metadata": {},
     "output_type": "execute_result"
    }
   ],
   "source": [
    "DB"
   ]
  },
  {
   "cell_type": "code",
   "execution_count": 82,
   "id": "30962188",
   "metadata": {},
   "outputs": [],
   "source": [
    "def getLongUrl(shorturl):\n",
    "    code = shorturl.split('/')[-1]\n",
    "    if code in DB:\n",
    "        return DB[code]\n",
    "    else:\n",
    "        return \"short url doesn't exists\""
   ]
  },
  {
   "cell_type": "code",
   "execution_count": null,
   "id": "5d40e6a6",
   "metadata": {},
   "outputs": [],
   "source": []
  },
  {
   "cell_type": "code",
   "execution_count": 79,
   "id": "bf57fd82",
   "metadata": {},
   "outputs": [
    {
     "data": {
      "text/plain": [
       "'gikdi'"
      ]
     },
     "execution_count": 79,
     "metadata": {},
     "output_type": "execute_result"
    }
   ],
   "source": [
    "\"biyli.in/gikdi\".split('/')[-1]"
   ]
  },
  {
   "cell_type": "code",
   "execution_count": 83,
   "id": "0e3e58fc",
   "metadata": {},
   "outputs": [
    {
     "data": {
      "text/plain": [
       "'https://www.vineetsawant.com'"
      ]
     },
     "execution_count": 83,
     "metadata": {},
     "output_type": "execute_result"
    }
   ],
   "source": [
    "getLongUrl(\"biyli.in/gikdi\")"
   ]
  },
  {
   "cell_type": "code",
   "execution_count": 84,
   "id": "dbfd919d",
   "metadata": {},
   "outputs": [
    {
     "data": {
      "text/plain": [
       "\"short url doesn't exists\""
      ]
     },
     "execution_count": 84,
     "metadata": {},
     "output_type": "execute_result"
    }
   ],
   "source": [
    "getLongUrl(\"biyli.in/abcdef\")"
   ]
  },
  {
   "cell_type": "code",
   "execution_count": null,
   "id": "da158cc6",
   "metadata": {},
   "outputs": [],
   "source": [
    "# Modifications"
   ]
  },
  {
   "cell_type": "code",
   "execution_count": 88,
   "id": "8a211e17",
   "metadata": {},
   "outputs": [],
   "source": [
    "def getShortURL2(longurl):\n",
    "    # use to define the length of the chars\n",
    "    \n",
    "    # generates chars and numbers\n",
    "    chars = string.ascii_lowercase + string.digits\n",
    "    charlen = random.randint(4, 7)\n",
    "    \n",
    "    shortUrl = ''.join([random.choice(chars) for i in range(charlen)])\n",
    "    \n",
    "    if shortUrl is DB:\n",
    "        return getShortURL(longurl)\n",
    "    elif longurl in DB:\n",
    "        print(\"Corresponding short url already exists\")\n",
    "        return shortUrl\n",
    "    else:\n",
    "        DB[shortUrl] = longurl\n",
    "        \n",
    "    result = \"biyli.in/\"+shortUrl\n",
    "    return result"
   ]
  },
  {
   "cell_type": "code",
   "execution_count": 86,
   "id": "348455bb",
   "metadata": {},
   "outputs": [
    {
     "data": {
      "text/plain": [
       "'0123456789'"
      ]
     },
     "execution_count": 86,
     "metadata": {},
     "output_type": "execute_result"
    }
   ],
   "source": [
    "string.digits"
   ]
  },
  {
   "cell_type": "code",
   "execution_count": 89,
   "id": "cd77bea7",
   "metadata": {},
   "outputs": [
    {
     "data": {
      "text/plain": [
       "'biyli.in/4l6o339'"
      ]
     },
     "execution_count": 89,
     "metadata": {},
     "output_type": "execute_result"
    }
   ],
   "source": [
    "getShortURL2(\"https://www.google.com\")"
   ]
  },
  {
   "cell_type": "code",
   "execution_count": 92,
   "id": "b714eeb6",
   "metadata": {},
   "outputs": [
    {
     "data": {
      "text/plain": [
       "'https://www.google.com'"
      ]
     },
     "execution_count": 92,
     "metadata": {},
     "output_type": "execute_result"
    }
   ],
   "source": [
    "getLongUrl(\"biyli.in/4l6o339\")"
   ]
  },
  {
   "cell_type": "code",
   "execution_count": 100,
   "id": "dce8b89f",
   "metadata": {},
   "outputs": [],
   "source": [
    "def getShortURL3(longurl, code=None):\n",
    "    # use to define the length of the char\n",
    "    \n",
    "    # generates chars and numbers\n",
    "    \n",
    "    \n",
    "    if code:\n",
    "        if code in DB:\n",
    "            return \"Short url already exist\"\n",
    "        else:\n",
    "            DB[code] = longurl\n",
    "            res = \"biyli.in/\"+code\n",
    "            return res\n",
    "    \n",
    "    chars = string.ascii_lowercase + string.digits\n",
    "    charlen = random.randint(4, 7)\n",
    "    \n",
    "    shortUrl = ''.join([random.choice(chars) for i in range(charlen)])\n",
    "    \n",
    "    if shortUrl is DB:\n",
    "        return getShortURL(longurl)\n",
    "    elif longurl in DB:\n",
    "        print(\"Corresponding short url already exists\")\n",
    "        return shortUrl\n",
    "    else:\n",
    "        DB[shortUrl] = longurl\n",
    "        \n",
    "    result = \"biyli.in/\"+shortUrl\n",
    "    return result"
   ]
  },
  {
   "cell_type": "code",
   "execution_count": 105,
   "id": "ae08eb65",
   "metadata": {},
   "outputs": [
    {
     "data": {
      "text/plain": [
       "'Short url already exist'"
      ]
     },
     "execution_count": 105,
     "metadata": {},
     "output_type": "execute_result"
    }
   ],
   "source": [
    "getShortURL3('https://www.facbook.com', 'vineet8')"
   ]
  },
  {
   "cell_type": "code",
   "execution_count": 106,
   "id": "6e1c86b5",
   "metadata": {},
   "outputs": [
    {
     "data": {
      "text/plain": [
       "{'uvhdn': 'https://www.vineetsawant.com',\n",
       " 'rrbsf': 'https://www.vineetsawant.com',\n",
       " 'ldnew': 'https://www.vineetsawant.com',\n",
       " 'gmbh': 'https://www.vineetsawant.com',\n",
       " 'vfkmxu': 'https://www.vineetsawant.com',\n",
       " 'mimivlo': 'https://www.vineetsawant.com',\n",
       " 'mhtcvh': 'https://www.vineetsawant.com',\n",
       " 'gikdi': 'https://www.vineetsawant.com',\n",
       " '4l6o339': 'https://www.google.com',\n",
       " 'vineet-sawant': 'https://www.facebook.com',\n",
       " 'vineet-sawan': 'https://www.facbook.com',\n",
       " 'vineet8': 'https://www.facbook.com'}"
      ]
     },
     "execution_count": 106,
     "metadata": {},
     "output_type": "execute_result"
    }
   ],
   "source": [
    "DB"
   ]
  },
  {
   "cell_type": "code",
   "execution_count": null,
   "id": "dc4a458d",
   "metadata": {},
   "outputs": [],
   "source": []
  },
  {
   "cell_type": "code",
   "execution_count": null,
   "id": "49918eb1",
   "metadata": {},
   "outputs": [],
   "source": []
  }
 ],
 "metadata": {
  "kernelspec": {
   "display_name": "Python 3 (ipykernel)",
   "language": "python",
   "name": "python3"
  },
  "language_info": {
   "codemirror_mode": {
    "name": "ipython",
    "version": 3
   },
   "file_extension": ".py",
   "mimetype": "text/x-python",
   "name": "python",
   "nbconvert_exporter": "python",
   "pygments_lexer": "ipython3",
   "version": "3.9.13"
  }
 },
 "nbformat": 4,
 "nbformat_minor": 5
}
